{
  "nbformat": 4,
  "nbformat_minor": 0,
  "metadata": {
    "colab": {
      "name": "DA_2_4_3.ipynb",
      "provenance": [],
      "collapsed_sections": []
    },
    "kernelspec": {
      "name": "python3",
      "display_name": "Python 3"
    },
    "language_info": {
      "name": "python"
    }
  },
  "cells": [
    {
      "cell_type": "markdown",
      "source": [
        "# Module 2: Main Analysis Types\n",
        "## Sprint 4: Linear and Logistic Regression\n",
        "## Part 3: Graded task\n",
        "\n",
        "<br>\n",
        "\n",
        "Access the graded task [here](https://docs.google.com/spreadsheets/d/1d_bjwIKXujO3HQabnd3oqWfZgh5XnuiYFa-mDNWfDeY/edit#gid=983060502).\n",
        "\n",
        "<br>\n",
        "\n",
        "## Submission\n",
        "Upload all solution files for this graded task to your GitHub repository using the \"Add File\" function.\n",
        "\n",
        "\n",
        "## Accessing the next notebook:\n",
        "After you schedule your project reviews, you can already start working on the next part from the upcoming sprint. Contact Giedrius Zebrauskas via Discord to receive it (unfortunately, the system cannot currently give early access to notebooks from different modules). Once the project review is completed, you will see this content in the Turing platform normally.\n",
        "\n"
      ],
      "metadata": {
        "id": "ygmNKa4w3CwF"
      }
    }
  ]
}